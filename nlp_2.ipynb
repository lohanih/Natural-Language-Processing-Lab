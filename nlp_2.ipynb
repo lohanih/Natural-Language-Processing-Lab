{
 "cells": [
  {
   "cell_type": "code",
   "execution_count": 4,
   "metadata": {},
   "outputs": [
    {
     "data": {
      "text/plain": [
       "['och',\n",
       " 'det',\n",
       " 'att',\n",
       " 'i',\n",
       " 'en',\n",
       " 'jag',\n",
       " 'hon',\n",
       " 'som',\n",
       " 'han',\n",
       " 'på',\n",
       " 'den',\n",
       " 'med',\n",
       " 'var',\n",
       " 'sig',\n",
       " 'för',\n",
       " 'så',\n",
       " 'till',\n",
       " 'är',\n",
       " 'men',\n",
       " 'ett',\n",
       " 'om',\n",
       " 'hade',\n",
       " 'de',\n",
       " 'av',\n",
       " 'icke',\n",
       " 'mig',\n",
       " 'du',\n",
       " 'henne',\n",
       " 'då',\n",
       " 'sin',\n",
       " 'nu',\n",
       " 'har',\n",
       " 'inte',\n",
       " 'hans',\n",
       " 'honom',\n",
       " 'skulle',\n",
       " 'hennes',\n",
       " 'där',\n",
       " 'min',\n",
       " 'man',\n",
       " 'ej',\n",
       " 'vid',\n",
       " 'kunde',\n",
       " 'något',\n",
       " 'från',\n",
       " 'ut',\n",
       " 'när',\n",
       " 'efter',\n",
       " 'upp',\n",
       " 'vi',\n",
       " 'dem',\n",
       " 'vara',\n",
       " 'vad',\n",
       " 'över',\n",
       " 'än',\n",
       " 'dig',\n",
       " 'kan',\n",
       " 'sina',\n",
       " 'här',\n",
       " 'ha',\n",
       " 'mot',\n",
       " 'alla',\n",
       " 'under',\n",
       " 'någon',\n",
       " 'eller',\n",
       " 'allt',\n",
       " 'mycket',\n",
       " 'sedan',\n",
       " 'ju',\n",
       " 'denna',\n",
       " 'själv',\n",
       " 'detta',\n",
       " 'åt',\n",
       " 'utan',\n",
       " 'varit',\n",
       " 'hur',\n",
       " 'ingen',\n",
       " 'mitt',\n",
       " 'ni',\n",
       " 'bli',\n",
       " 'blev',\n",
       " 'oss',\n",
       " 'din',\n",
       " 'dessa',\n",
       " 'några',\n",
       " 'deras',\n",
       " 'blir',\n",
       " 'mina',\n",
       " 'samma',\n",
       " 'vilken',\n",
       " 'er',\n",
       " 'sådan',\n",
       " 'vår',\n",
       " 'blivit',\n",
       " 'dess',\n",
       " 'inom',\n",
       " 'mellan',\n",
       " 'sådant',\n",
       " 'varför',\n",
       " 'varje',\n",
       " 'vilka',\n",
       " 'ditt',\n",
       " 'vem',\n",
       " 'vilket',\n",
       " 'sitta',\n",
       " 'sådana',\n",
       " 'vart',\n",
       " 'dina',\n",
       " 'vars',\n",
       " 'vårt',\n",
       " 'våra',\n",
       " 'ert',\n",
       " 'era',\n",
       " 'vilkas']"
      ]
     },
     "execution_count": 4,
     "metadata": {},
     "output_type": "execute_result"
    }
   ],
   "source": [
    "import nltk\n",
    "from nltk.corpus import stopwords\n",
    "stopwords.words('swedish')\n"
   ]
  },
  {
   "cell_type": "code",
   "execution_count": 3,
   "metadata": {},
   "outputs": [
    {
     "name": "stdout",
     "output_type": "stream",
     "text": [
      "showing info https://raw.githubusercontent.com/nltk/nltk_data/gh-pages/index.xml\n"
     ]
    },
    {
     "data": {
      "text/plain": [
       "True"
      ]
     },
     "execution_count": 3,
     "metadata": {},
     "output_type": "execute_result"
    }
   ],
   "source": [
    "import nltk\n",
    "nltk.download()"
   ]
  },
  {
   "cell_type": "code",
   "execution_count": 5,
   "metadata": {},
   "outputs": [
    {
     "data": {
      "text/plain": [
       "133737"
      ]
     },
     "execution_count": 5,
     "metadata": {},
     "output_type": "execute_result"
    }
   ],
   "source": [
    "entries = nltk.corpus.cmudict.entries()\n",
    "len(entries)\n"
   ]
  },
  {
   "cell_type": "code",
   "execution_count": 6,
   "metadata": {},
   "outputs": [
    {
     "name": "stdout",
     "output_type": "stream",
     "text": [
      "(\"chapman's\", ['CH', 'AE1', 'P', 'M', 'AH0', 'N', 'Z'])\n",
      "('chapnick', ['CH', 'AE1', 'P', 'N', 'IH0', 'K'])\n",
      "('chapoton', ['CH', 'AE1', 'P', 'OW0', 'T', 'AA2', 'N'])\n",
      "('chapp', ['CH', 'AE1', 'P'])\n",
      "('chappaquiddick', ['CH', 'AE2', 'P', 'AH0', 'K', 'W', 'IH1', 'D', 'IH0', 'K'])\n",
      "('chappel', ['CH', 'AE1', 'P', 'AH0', 'L'])\n",
      "('chappelear', ['SH', 'AE1', 'P', 'IH0', 'L', 'ER0'])\n",
      "('chappell', ['CH', 'AE1', 'P', 'AH0', 'L'])\n",
      "('chappelle', ['SH', 'AH0', 'P', 'EH1', 'L'])\n",
      "('chappie', ['CH', 'AE1', 'P', 'IY0'])\n",
      "('chapple', ['CH', 'AE1', 'P', 'AH0', 'L'])\n",
      "('chappuis', ['SH', 'AE1', 'P', 'UW0', 'IH0', 'Z'])\n",
      "('chaps', ['CH', 'AE1', 'P', 'S'])\n",
      "('chapter', ['CH', 'AE1', 'P', 'T', 'ER0'])\n",
      "('chapters', ['CH', 'AE1', 'P', 'T', 'ER0', 'Z'])\n",
      "('chaput', ['CH', 'AE1', 'P', 'AH0', 'T'])\n",
      "('char', ['CH', 'AA1', 'R'])\n",
      "('chara', ['CH', 'AA1', 'R', 'AH0'])\n",
      "('character', ['K', 'EH1', 'R', 'IH0', 'K', 'T', 'ER0'])\n",
      "('characteristic', ['K', 'EH2', 'R', 'AH0', 'K', 'T', 'ER0', 'IH1', 'S', 'T', 'IH0', 'K'])\n",
      "('characteristically', ['K', 'EH2', 'R', 'AH0', 'K', 'T', 'ER0', 'IH1', 'S', 'T', 'IH0', 'K', 'L', 'IY0'])\n",
      "('characteristics', ['K', 'EH2', 'R', 'AH0', 'K', 'T', 'ER0', 'IH1', 'S', 'T', 'IH0', 'K', 'S'])\n",
      "('characterization', ['K', 'EH2', 'R', 'AH0', 'K', 'T', 'ER0', 'IH0', 'Z', 'EY1', 'SH', 'AH0', 'N'])\n",
      "('characterizations', ['K', 'EH2', 'R', 'AH0', 'K', 'T', 'ER0', 'IH0', 'Z', 'EY1', 'SH', 'AH0', 'N', 'Z'])\n",
      "('characterize', ['K', 'EH1', 'R', 'AH0', 'K', 'T', 'ER0', 'AY2', 'Z'])\n",
      "('characterized', ['K', 'EH1', 'R', 'AH0', 'K', 'T', 'ER0', 'AY2', 'Z', 'D'])\n",
      "('characterizes', ['K', 'EH1', 'R', 'AH0', 'K', 'T', 'ER0', 'AY2', 'Z', 'AH0', 'Z'])\n",
      "('characterizing', ['K', 'EH1', 'R', 'IH0', 'K', 'T', 'ER0', 'AY2', 'Z', 'IH0', 'NG'])\n",
      "(\"characters'\", ['CH', 'EH1', 'R', 'AH0', 'K', 'T', 'ER0', 'Z'])\n",
      "('characters', ['K', 'AE1', 'R', 'IH0', 'K', 'T', 'ER0', 'Z'])\n",
      "(\"character's\", ['K', 'EH1', 'R', 'IH0', 'K', 'T', 'ER0', 'Z'])\n",
      "('characters', ['K', 'EH1', 'R', 'AH0', 'K', 'T', 'ER0', 'Z'])\n",
      "('charade', ['SH', 'ER0', 'EY1', 'D'])\n",
      "('charades', ['SH', 'ER0', 'EY1', 'D', 'Z'])\n",
      "('charalambos', ['CH', 'AA2', 'R', 'AH0', 'L', 'AA1', 'M', 'B', 'OW0', 'S'])\n",
      "('charasse', ['CH', 'EH1', 'R', 'AE0', 'S'])\n",
      "('charboneau', ['SH', 'AA1', 'R', 'B', 'AH0', 'N', 'OW0'])\n",
      "('charbonneau', ['SH', 'AA1', 'R', 'B', 'AH0', 'N', 'OW2'])\n",
      "('charbonnet', ['SH', 'AA1', 'R', 'B', 'AH0', 'N', 'IH0', 'T'])\n",
      "('charbonnet', ['SH', 'AA1', 'R', 'B', 'AH0', 'N', 'EY0'])\n",
      "('charcoal', ['CH', 'AA1', 'R', 'K', 'OW2', 'L'])\n",
      "('charcoals', ['CH', 'AA1', 'R', 'K', 'OW2', 'L', 'Z'])\n",
      "('chard', ['CH', 'AA1', 'R', 'D'])\n",
      "('chardonnay', ['CH', 'AA0', 'R', 'D', 'AA1', 'N', 'EY0'])\n",
      "('chardonnays', ['CH', 'AA0', 'R', 'D', 'AA1', 'N', 'EY0', 'Z'])\n"
     ]
    }
   ],
   "source": [
    "for entry in entries[20000:20045]:\n",
    "    print(entry)\n"
   ]
  },
  {
   "cell_type": "code",
   "execution_count": 7,
   "metadata": {},
   "outputs": [
    {
     "data": {
      "text/plain": [
       "[Synset('computer.n.01'), Synset('calculator.n.01')]"
      ]
     },
     "execution_count": 7,
     "metadata": {},
     "output_type": "execute_result"
    }
   ],
   "source": [
    "from nltk.corpus import wordnet as wdn\n",
    "wdn.synsets('computer')\n"
   ]
  },
  {
   "cell_type": "code",
   "execution_count": 8,
   "metadata": {},
   "outputs": [
    {
     "data": {
      "text/plain": [
       "['computer',\n",
       " 'computing_machine',\n",
       " 'computing_device',\n",
       " 'data_processor',\n",
       " 'electronic_computer',\n",
       " 'information_processing_system']"
      ]
     },
     "execution_count": 8,
     "metadata": {},
     "output_type": "execute_result"
    }
   ],
   "source": [
    "wdn.synset('computer.n.01').lemma_names()\n"
   ]
  },
  {
   "cell_type": "code",
   "execution_count": 9,
   "metadata": {},
   "outputs": [
    {
     "name": "stdout",
     "output_type": "stream",
     "text": [
      "[('Kurt', 'NNP'), ('Donald', 'NNP'), ('Cobain', 'NNP'), ('(', '('), ('February', 'NNP'), ('20', 'CD'), (',', ','), ('1967', 'CD'), ('–', 'NNP'), ('April', 'NNP'), ('5', 'CD'), (',', ','), ('1994', 'CD'), (')', ')'), ('was', 'VBD'), ('an', 'DT'), ('American', 'JJ'), ('singer', 'NN'), (',', ','), ('songwriter', 'NN'), (',', ','), ('and', 'CC'), ('musician', 'JJ'), (',', ','), ('best', 'RB'), ('known', 'VBN'), ('as', 'IN'), ('the', 'DT'), ('guitarist', 'NN'), ('and', 'CC'), ('frontman', 'NN'), ('of', 'IN'), ('the', 'DT'), ('rock', 'NN'), ('band', 'NN'), ('Nirvana', 'NNP'), ('.', '.')]\n",
      "[('Cobain', 'NN'), ('is', 'VBZ'), ('remembered', 'VBN'), ('as', 'IN'), ('one', 'CD'), ('of', 'IN'), ('the', 'DT'), ('most', 'RBS'), ('iconic', 'JJ'), ('and', 'CC'), ('influential', 'JJ'), ('rock', 'NN'), ('musicians', 'NNS'), ('in', 'IN'), ('the', 'DT'), ('history', 'NN'), ('of', 'IN'), ('alternative', 'JJ'), ('music', 'NN'), ('.', '.')]\n",
      "[('Born', 'VBN'), ('in', 'IN'), ('Aberdeen', 'NNP'), (',', ','), ('Washington', 'NNP'), (',', ','), ('Cobain', 'NNP'), ('formed', 'VBD'), ('the', 'DT'), ('band', 'NN'), ('Nirvana', 'NNP'), ('with', 'IN'), ('Krist', 'NNP'), ('Novoselic', 'NNP'), ('and', 'CC'), ('Aaron', 'NNP'), ('Burckhard', 'NNP'), ('in', 'IN'), ('1987', 'CD'), ('and', 'CC'), ('established', 'VBD'), ('it', 'PRP'), ('as', 'IN'), ('part', 'NN'), ('of', 'IN'), ('the', 'DT'), ('Seattle', 'NNP'), ('music', 'NN'), ('scene', 'NN'), ('which', 'WDT'), ('later', 'RB'), ('became', 'VBD'), ('known', 'VBN'), ('as', 'IN'), ('grunge', 'NN'), ('.', '.')]\n",
      "[('After', 'IN'), ('signing', 'VBG'), ('with', 'IN'), ('major', 'JJ'), ('label', 'NN'), ('DGC', 'NNP'), ('Records', 'NNP'), (',', ','), ('Nirvana', 'NNP'), ('found', 'VBD'), ('success', 'NN'), ('with', 'IN'), ('``', '``'), ('Smells', 'NNP'), ('Like', 'IN'), ('Teen', 'NNP'), ('Spirit', 'NNP'), (\"''\", \"''\"), ('from', 'IN'), ('their', 'PRP$'), ('second', 'JJ'), ('album', 'NN'), ('Nevermind', 'NNP'), ('(', '('), ('1991', 'CD'), (')', ')'), ('.', '.')]\n",
      "[('Following', 'VBG'), ('the', 'DT'), ('success', 'NN'), ('of', 'IN'), ('Nevermind', 'NNP'), (',', ','), ('Nirvana', 'NNP'), ('was', 'VBD'), ('labelled', 'VBN'), ('``', '``'), ('the', 'DT'), ('flagship', 'NN'), ('band', 'NN'), (\"''\", \"''\"), ('of', 'IN'), ('Generation', 'NNP'), ('X', 'NNP'), (',', ','), ('and', 'CC'), ('Cobain', 'NNP'), ('was', 'VBD'), ('hailed', 'VBN'), ('as', 'IN'), ('``', '``'), ('the', 'DT'), ('spokesman', 'NN'), ('of', 'IN'), ('a', 'DT'), ('generation', 'NN'), (\"''\", \"''\"), (';', ':'), ('[', 'CC'), ('1', 'CD'), (']', 'NN'), ('however', 'RB'), (',', ','), ('Cobain', 'NNP'), ('resented', 'VBD'), ('this', 'DT'), (',', ','), ('believing', 'VBG'), ('his', 'PRP$'), ('message', 'NN'), ('and', 'CC'), ('artistic', 'JJ'), ('vision', 'NN'), ('had', 'VBD'), ('been', 'VBN'), ('misinterpreted', 'VBN'), ('by', 'IN'), ('the', 'DT'), ('public', 'NN'), (',', ','), ('with', 'IN'), ('his', 'PRP$'), ('personal', 'JJ'), ('problems', 'NNS'), ('often', 'RB'), ('subject', 'VBP'), ('to', 'TO'), ('media', 'NNS'), ('attention', 'NN'), ('.', '.')]\n",
      "[('[', 'RB'), ('2', 'CD'), (']', 'NNS')]\n"
     ]
    }
   ],
   "source": [
    "texts = [\"\"\"Kurt Donald Cobain (February 20, 1967 – April 5, 1994) was an American singer, songwriter, and musician, best known as the guitarist and frontman of the rock band Nirvana. Cobain is remembered as one of the most iconic and influential rock musicians in the history of alternative music.\n",
    "Born in Aberdeen, Washington, Cobain formed the band Nirvana with Krist Novoselic and Aaron Burckhard in 1987 and established it as part of the Seattle music scene which later became known as grunge. After signing with major label DGC Records, Nirvana found success with \"Smells Like Teen Spirit\" from their second album Nevermind (1991). Following the success of Nevermind, Nirvana was labelled \"the flagship band\" of Generation X, and Cobain was hailed as \"the spokesman of a generation\";[1] however, Cobain resented this, believing his message and artistic vision had been misinterpreted by the public, with his personal problems often subject to media attention.[2]\"\"\"]\n",
    "\n",
    "for text in texts:\n",
    "    sentences = nltk.sent_tokenize(text)\n",
    "    for sentence in sentences:\n",
    "        words = nltk.word_tokenize(sentence)\n",
    "        tagged_words = nltk.pos_tag(words)\n",
    "        print(tagged_words)\n"
   ]
  },
  {
   "cell_type": "code",
   "execution_count": 10,
   "metadata": {},
   "outputs": [
    {
     "data": {
      "text/plain": [
       "['This', 'was', 'a', 'great', 'day', '!', ':)', '#greatday', '#goodlife']"
      ]
     },
     "execution_count": 10,
     "metadata": {},
     "output_type": "execute_result"
    }
   ],
   "source": [
    "from nltk.tokenize import TweetTokenizer\n",
    "text = 'This was a great day! :) #greatday #goodlife'\n",
    "twtkn = TweetTokenizer()\n",
    "twtkn.tokenize(text)"
   ]
  },
  {
   "cell_type": "code",
   "execution_count": null,
   "metadata": {},
   "outputs": [],
   "source": []
  }
 ],
 "metadata": {
  "kernelspec": {
   "display_name": "Python 3",
   "language": "python",
   "name": "python3"
  },
  "language_info": {
   "codemirror_mode": {
    "name": "ipython",
    "version": 3
   },
   "file_extension": ".py",
   "mimetype": "text/x-python",
   "name": "python",
   "nbconvert_exporter": "python",
   "pygments_lexer": "ipython3",
   "version": "3.7.0"
  }
 },
 "nbformat": 4,
 "nbformat_minor": 2
}
